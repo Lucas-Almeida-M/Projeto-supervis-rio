{
 "cells": [
  {
   "cell_type": "code",
   "execution_count": 3,
   "metadata": {},
   "outputs": [],
   "source": [
    "falhas = ['for','else','if','nor','not','big','small','switch']\n"
   ]
  },
  {
   "cell_type": "code",
   "execution_count": 6,
   "metadata": {},
   "outputs": [
    {
     "ename": "TypeError",
     "evalue": "sequence item 0: expected str instance, list found",
     "output_type": "error",
     "traceback": [
      "\u001b[1;31m---------------------------------------------------------------------------\u001b[0m",
      "\u001b[1;31mTypeError\u001b[0m                                 Traceback (most recent call last)",
      "\u001b[1;32m~\\AppData\\Local\\Temp/ipykernel_13676/1785495807.py\u001b[0m in \u001b[0;36m<module>\u001b[1;34m\u001b[0m\n\u001b[0;32m     15\u001b[0m         \u001b[0mtextoaux\u001b[0m\u001b[1;33m.\u001b[0m\u001b[0mappend\u001b[0m\u001b[1;33m(\u001b[0m\u001b[1;34m\",\"\u001b[0m\u001b[1;33m)\u001b[0m\u001b[1;33m\u001b[0m\u001b[1;33m\u001b[0m\u001b[0m\n\u001b[0;32m     16\u001b[0m \u001b[1;33m\u001b[0m\u001b[0m\n\u001b[1;32m---> 17\u001b[1;33m \u001b[0mprint\u001b[0m\u001b[1;33m(\u001b[0m\u001b[1;34m\"\"\u001b[0m\u001b[1;33m.\u001b[0m\u001b[0mjoin\u001b[0m\u001b[1;33m(\u001b[0m\u001b[0mtexto\u001b[0m\u001b[1;33m)\u001b[0m\u001b[1;33m)\u001b[0m\u001b[1;33m\u001b[0m\u001b[1;33m\u001b[0m\u001b[0m\n\u001b[0m",
      "\u001b[1;31mTypeError\u001b[0m: sequence item 0: expected str instance, list found"
     ]
    }
   ],
   "source": [
    "texto = []\n",
    "textoaux = []\n",
    "for n in range(len(falhas)):\n",
    "    if (n != 0 and n%3 == 0): \n",
    "        texto.append(textoaux)\n",
    "        textoaux = []\n",
    "        textoaux.append(\"\\n\")\n",
    "        textoaux.append(falhas[n])\n",
    "        textoaux.append(\",\")\n",
    "    elif ((len(falhas)%3 != 0) and n == (len(falhas)-1)):\n",
    "        textoaux.append(falhas[n])\n",
    "        texto.append(textoaux)\n",
    "    else:\n",
    "        textoaux.append(falhas[n])\n",
    "        textoaux.append(\",\")\n",
    "\n",
    "print(\"\".join(texto[]))"
   ]
  },
  {
   "cell_type": "code",
   "execution_count": 24,
   "metadata": {},
   "outputs": [
    {
     "name": "stdout",
     "output_type": "stream",
     "text": [
      "[['for', 'else', 'if'], ['nor', 'not', 'big'], ['small', 'switch']]\n"
     ]
    }
   ],
   "source": [
    "def divide_chunks(l, n):\n",
    "    for i in range(0, len(l), n):\n",
    "        yield l[i:i + n]\n",
    "\n",
    "a = divide_chunks(falhas,3)\n",
    "print(list(a))"
   ]
  },
  {
   "cell_type": "code",
   "execution_count": 7,
   "metadata": {},
   "outputs": [
    {
     "name": "stdout",
     "output_type": "stream",
     "text": [
      "for,else,if,\n",
      "nor,not,big,\n",
      "small,switch\n"
     ]
    }
   ],
   "source": [
    "texto = []\n",
    "textoaux = []\n",
    "for n in range(len(falhas)):\n",
    "    if (n != 0 and n%3 == 0): \n",
    "        texto.append(\"\\n\")\n",
    "        texto.append(falhas[n])\n",
    "        texto.append(\",\")\n",
    "    elif ((len(falhas)%3 != 0) and n == (len(falhas)-1)):\n",
    "        texto.append(falhas[n])\n",
    "    else:\n",
    "        texto.append(falhas[n])\n",
    "        texto.append(\",\")\n",
    "\n",
    "print(\"\".join(texto))"
   ]
  }
 ],
 "metadata": {
  "kernelspec": {
   "display_name": "Python 3.9.7 ('base')",
   "language": "python",
   "name": "python3"
  },
  "language_info": {
   "codemirror_mode": {
    "name": "ipython",
    "version": 3
   },
   "file_extension": ".py",
   "mimetype": "text/x-python",
   "name": "python",
   "nbconvert_exporter": "python",
   "pygments_lexer": "ipython3",
   "version": "3.9.7"
  },
  "orig_nbformat": 4,
  "vscode": {
   "interpreter": {
    "hash": "665796ea3363072d3a6057ac2fdbe3c4fcb0d17a4b92295d9707f78e9c46c0af"
   }
  }
 },
 "nbformat": 4,
 "nbformat_minor": 2
}
